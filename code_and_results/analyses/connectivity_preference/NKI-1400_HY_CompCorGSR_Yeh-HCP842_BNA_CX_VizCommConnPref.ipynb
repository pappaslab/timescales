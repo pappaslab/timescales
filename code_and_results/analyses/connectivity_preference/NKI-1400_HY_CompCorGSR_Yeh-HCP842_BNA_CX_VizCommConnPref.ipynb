{
 "cells": [
  {
   "cell_type": "markdown",
   "id": "ec3977c2-c812-44cc-9d7f-0ad31b9e4607",
   "metadata": {
    "papermill": {
     "duration": 0.013421,
     "end_time": "2021-08-09T06:15:06.177256",
     "exception": false,
     "start_time": "2021-08-09T06:15:06.163835",
     "status": "completed"
    },
    "tags": []
   },
   "source": [
    "# Community Connectivity Preference"
   ]
  },
  {
   "cell_type": "code",
   "execution_count": 1,
   "id": "e0731b45-9f06-4cd5-b51a-049bc216dc34",
   "metadata": {
    "execution": {
     "iopub.execute_input": "2021-08-09T06:15:06.210653Z",
     "iopub.status.busy": "2021-08-09T06:15:06.209928Z",
     "iopub.status.idle": "2021-08-09T06:15:06.213938Z",
     "shell.execute_reply": "2021-08-09T06:15:06.213246Z"
    },
    "papermill": {
     "duration": 0.024365,
     "end_time": "2021-08-09T06:15:06.214117",
     "exception": false,
     "start_time": "2021-08-09T06:15:06.189752",
     "status": "completed"
    },
    "tags": [
     "parameters"
    ]
   },
   "outputs": [],
   "source": [
    "fmri_data_label = None\n",
    "dwi_data_label = None\n",
    "roi_subset = None\n",
    "results_dir = None"
   ]
  },
  {
   "cell_type": "code",
   "execution_count": 2,
   "id": "13fc6383",
   "metadata": {
    "execution": {
     "iopub.execute_input": "2021-08-09T06:15:06.244507Z",
     "iopub.status.busy": "2021-08-09T06:15:06.243919Z",
     "iopub.status.idle": "2021-08-09T06:15:06.246747Z",
     "shell.execute_reply": "2021-08-09T06:15:06.246161Z"
    },
    "papermill": {
     "duration": 0.018938,
     "end_time": "2021-08-09T06:15:06.246862",
     "exception": false,
     "start_time": "2021-08-09T06:15:06.227924",
     "status": "completed"
    },
    "tags": [
     "injected-parameters"
    ]
   },
   "outputs": [],
   "source": [
    "# Parameters\n",
    "dwi_data_label = \"Yeh-HCP842\"\n",
    "results_dir = \"/home/despo/dlurie/Projects/timescale_hierarchy/results\"\n",
    "fmri_data_label = \"NKI-1400_HY_CompCorGSR\"\n",
    "roi_subset = \"CX\"\n"
   ]
  },
  {
   "cell_type": "code",
   "execution_count": 3,
   "id": "1247910c-27d5-40eb-9cdd-8e214d303c9e",
   "metadata": {
    "execution": {
     "iopub.execute_input": "2021-08-09T06:15:06.277924Z",
     "iopub.status.busy": "2021-08-09T06:15:06.277367Z",
     "iopub.status.idle": "2021-08-09T06:15:07.987266Z",
     "shell.execute_reply": "2021-08-09T06:15:07.987694Z"
    },
    "papermill": {
     "duration": 1.727996,
     "end_time": "2021-08-09T06:15:07.987860",
     "exception": false,
     "start_time": "2021-08-09T06:15:06.259864",
     "status": "completed"
    },
    "tags": []
   },
   "outputs": [],
   "source": [
    "import os\n",
    "import pandas as pd\n",
    "import numpy as np\n",
    "import seaborn as sns\n",
    "import matplotlib.pyplot as plt\n",
    "import statsmodels.api as sm\n",
    "from stat import S_IREAD, S_IRGRP, S_IROTH"
   ]
  },
  {
   "cell_type": "code",
   "execution_count": 4,
   "id": "c3fbe43b-b098-47bb-b4b9-cbe2273aeba7",
   "metadata": {
    "execution": {
     "iopub.execute_input": "2021-08-09T06:15:08.019585Z",
     "iopub.status.busy": "2021-08-09T06:15:08.019046Z",
     "iopub.status.idle": "2021-08-09T06:15:08.035657Z",
     "shell.execute_reply": "2021-08-09T06:15:08.036096Z"
    },
    "papermill": {
     "duration": 0.0349,
     "end_time": "2021-08-09T06:15:08.036244",
     "exception": false,
     "start_time": "2021-08-09T06:15:08.001344",
     "status": "completed"
    },
    "tags": []
   },
   "outputs": [],
   "source": [
    "%matplotlib inline\n",
    "%config InlineBackend.figure_format = 'retina'\n",
    "sns.set_style('ticks')\n",
    "sns.set_context('notebook')"
   ]
  },
  {
   "cell_type": "code",
   "execution_count": 5,
   "id": "f5cbde7e-57b4-49fa-ad74-8ab865f288aa",
   "metadata": {
    "execution": {
     "iopub.execute_input": "2021-08-09T06:15:08.067001Z",
     "iopub.status.busy": "2021-08-09T06:15:08.066452Z",
     "iopub.status.idle": "2021-08-09T06:15:08.072353Z",
     "shell.execute_reply": "2021-08-09T06:15:08.071819Z"
    },
    "papermill": {
     "duration": 0.023199,
     "end_time": "2021-08-09T06:15:08.072474",
     "exception": false,
     "start_time": "2021-08-09T06:15:08.049275",
     "status": "completed"
    },
    "tags": []
   },
   "outputs": [],
   "source": [
    "dat = pd.read_csv(f'{results_dir}/stats/connectivity_preference/{fmri_data_label}_{dwi_data_label}_BNA_{roi_subset}_ComConnPref_resDF.csv', index_col=0)"
   ]
  },
  {
   "cell_type": "code",
   "execution_count": 6,
   "id": "c4e26c14-81f7-478d-9da6-a0ba63f00b33",
   "metadata": {
    "execution": {
     "iopub.execute_input": "2021-08-09T06:15:08.103504Z",
     "iopub.status.busy": "2021-08-09T06:15:08.102957Z",
     "iopub.status.idle": "2021-08-09T06:15:08.105756Z",
     "shell.execute_reply": "2021-08-09T06:15:08.105205Z"
    },
    "papermill": {
     "duration": 0.019815,
     "end_time": "2021-08-09T06:15:08.105872",
     "exception": false,
     "start_time": "2021-08-09T06:15:08.086057",
     "status": "completed"
    },
    "tags": []
   },
   "outputs": [],
   "source": [
    "dat = dat.set_index('gamma')"
   ]
  },
  {
   "cell_type": "code",
   "execution_count": 7,
   "id": "7feaaada-73fc-4931-ba17-38fa00a4129e",
   "metadata": {
    "execution": {
     "iopub.execute_input": "2021-08-09T06:15:08.139003Z",
     "iopub.status.busy": "2021-08-09T06:15:08.138435Z",
     "iopub.status.idle": "2021-08-09T06:15:08.141355Z",
     "shell.execute_reply": "2021-08-09T06:15:08.140809Z"
    },
    "papermill": {
     "duration": 0.022173,
     "end_time": "2021-08-09T06:15:08.141474",
     "exception": false,
     "start_time": "2021-08-09T06:15:08.119301",
     "status": "completed"
    },
    "tags": []
   },
   "outputs": [],
   "source": [
    "def fdr_and_annot(data_df):\n",
    "\n",
    "    gamma_range = np.arange(5,36,1) / 10\n",
    "    \n",
    "    p_df = data_df[[i for i in data_df.columns if '_p' in i]]\n",
    "    q_array = sm.stats.multipletests(p_df.values.ravel(), alpha=0.05, method='fdr_bh')[1].reshape((31,4))\n",
    "    q_cols = [i.replace('_p', '_q') for i in p_df.columns]\n",
    "    q_df = pd.DataFrame(q_array, index=p_df.index, columns=q_cols)\n",
    "\n",
    "    annot_df = q_df <= 0.05\n",
    "\n",
    "    annot_df = annot_df.replace(True, '*')\n",
    "    annot_df = annot_df.replace(False, '')\n",
    "    annot_df = pd.DataFrame(annot_df, index=q_df.index, columns=q_df.columns)\n",
    "    \n",
    "    return annot_df, q_df"
   ]
  },
  {
   "cell_type": "code",
   "execution_count": 8,
   "id": "23711f28-f62e-4f39-a268-5f38a39b6310",
   "metadata": {
    "execution": {
     "iopub.execute_input": "2021-08-09T06:15:08.176061Z",
     "iopub.status.busy": "2021-08-09T06:15:08.172714Z",
     "iopub.status.idle": "2021-08-09T06:15:08.179050Z",
     "shell.execute_reply": "2021-08-09T06:15:08.178479Z"
    },
    "papermill": {
     "duration": 0.023995,
     "end_time": "2021-08-09T06:15:08.179172",
     "exception": false,
     "start_time": "2021-08-09T06:15:08.155177",
     "status": "completed"
    },
    "tags": []
   },
   "outputs": [],
   "source": [
    "annot_df, q_df = fdr_and_annot(dat)"
   ]
  },
  {
   "cell_type": "code",
   "execution_count": 9,
   "id": "df28206c-ef2f-45a6-ae77-57c2db25bb5d",
   "metadata": {
    "execution": {
     "iopub.execute_input": "2021-08-09T06:15:08.210828Z",
     "iopub.status.busy": "2021-08-09T06:15:08.210266Z",
     "iopub.status.idle": "2021-08-09T06:15:08.228720Z",
     "shell.execute_reply": "2021-08-09T06:15:08.228160Z"
    },
    "papermill": {
     "duration": 0.035893,
     "end_time": "2021-08-09T06:15:08.228834",
     "exception": false,
     "start_time": "2021-08-09T06:15:08.192941",
     "status": "completed"
    },
    "tags": []
   },
   "outputs": [],
   "source": [
    "out_path = f'{results_dir}/stats/connectivity_preference/{fmri_data_label}_{dwi_data_label}_BNA_{roi_subset}_ComConnPref_FDRq_df.csv'\n",
    "q_df.to_csv(out_path)\n",
    "os.chmod(out_path, S_IREAD|S_IRGRP|S_IROTH) # Make results read-only"
   ]
  },
  {
   "cell_type": "markdown",
   "id": "af112c2a-67a5-48a6-9719-24f4ef655f4b",
   "metadata": {
    "papermill": {
     "duration": 0.013494,
     "end_time": "2021-08-09T06:15:08.255899",
     "exception": false,
     "start_time": "2021-08-09T06:15:08.242405",
     "status": "completed"
    },
    "tags": []
   },
   "source": [
    "## Main Effect of Community"
   ]
  },
  {
   "cell_type": "code",
   "execution_count": 10,
   "id": "c6f3b7a2-4655-4732-96e9-1d848e994c0f",
   "metadata": {
    "execution": {
     "iopub.execute_input": "2021-08-09T06:15:08.289041Z",
     "iopub.status.busy": "2021-08-09T06:15:08.288497Z",
     "iopub.status.idle": "2021-08-09T06:15:08.291019Z",
     "shell.execute_reply": "2021-08-09T06:15:08.291425Z"
    },
    "papermill": {
     "duration": 0.022155,
     "end_time": "2021-08-09T06:15:08.291557",
     "exception": false,
     "start_time": "2021-08-09T06:15:08.269402",
     "status": "completed"
    },
    "tags": []
   },
   "outputs": [],
   "source": [
    "stat_df_cd = dat[[i for i in dat.columns if '_f' in i]]\n",
    "annot_df_cd = annot_df[[i for i in annot_df.columns if 'cd' in i]]"
   ]
  },
  {
   "cell_type": "code",
   "execution_count": 11,
   "id": "4e16b107-0afd-4d2e-af83-ffb499262889",
   "metadata": {
    "execution": {
     "iopub.execute_input": "2021-08-09T06:15:08.339238Z",
     "iopub.status.busy": "2021-08-09T06:15:08.332594Z",
     "iopub.status.idle": "2021-08-09T06:15:09.002005Z",
     "shell.execute_reply": "2021-08-09T06:15:09.002511Z"
    },
    "papermill": {
     "duration": 0.697639,
     "end_time": "2021-08-09T06:15:09.002682",
     "exception": false,
     "start_time": "2021-08-09T06:15:08.305043",
     "status": "completed"
    },
    "tags": []
   },
   "outputs": [
    {
     "data": {
      "image/png": "[encoded data removed]",
      "text/plain": [
       "<Figure size 1080x216 with 2 Axes>"
      ]
     },
     "metadata": {
      "image/png": {
       "height": 201,
       "width": 951
      }
     },
     "output_type": "display_data"
    }
   ],
   "source": [
    "fig, ax1 = plt.subplots(1, 1, sharex=False, sharey=False, figsize=(15,3))\n",
    "sns.heatmap(stat_df_cd.T, cbar=True, linewidths=1, cmap='cividis', linecolor='dimgrey', ax=ax1,\n",
    "           annot=annot_df_cd.T, fmt='', annot_kws={'fontweight':'black', 'fontsize':'large'},\n",
    "           cbar_kws={'label':'F-statistic'}, yticklabels=['SC','FC'])\n",
    "colorbar = ax1.collections[0].colorbar\n",
    "colorbar.ax.yaxis.set_label_position('left')\n",
    "plt.xticks(rotation=0)\n",
    "plt.yticks(rotation=0)\n",
    "plt.title(\"Timescales by Community\", y=1.05)\n",
    "plt.xlabel('Resolution')\n",
    "plt.tight_layout()"
   ]
  },
  {
   "cell_type": "markdown",
   "id": "b9a8ce56-65a9-4996-a1b1-999a0e10536b",
   "metadata": {
    "papermill": {
     "duration": 0.014783,
     "end_time": "2021-08-09T06:15:09.033320",
     "exception": false,
     "start_time": "2021-08-09T06:15:09.018537",
     "status": "completed"
    },
    "tags": []
   },
   "source": [
    "## Within vs. Between Communities"
   ]
  },
  {
   "cell_type": "code",
   "execution_count": 12,
   "id": "7fa0f9d9-7d98-4019-af61-abdf4b7f260f",
   "metadata": {
    "execution": {
     "iopub.execute_input": "2021-08-09T06:15:09.068959Z",
     "iopub.status.busy": "2021-08-09T06:15:09.068405Z",
     "iopub.status.idle": "2021-08-09T06:15:09.071047Z",
     "shell.execute_reply": "2021-08-09T06:15:09.070525Z"
    },
    "papermill": {
     "duration": 0.023017,
     "end_time": "2021-08-09T06:15:09.071164",
     "exception": false,
     "start_time": "2021-08-09T06:15:09.048147",
     "status": "completed"
    },
    "tags": []
   },
   "outputs": [],
   "source": [
    "stat_df_wb = dat[[i for i in dat.columns if '_t' in i]]\n",
    "annot_df_wb = annot_df[[i for i in annot_df.columns if 'wb' in i]]"
   ]
  },
  {
   "cell_type": "code",
   "execution_count": 13,
   "id": "98a2ae1d-5e2a-4c8f-aebd-386f3e45539b",
   "metadata": {
    "execution": {
     "iopub.execute_input": "2021-08-09T06:15:09.123749Z",
     "iopub.status.busy": "2021-08-09T06:15:09.121052Z",
     "iopub.status.idle": "2021-08-09T06:15:09.739730Z",
     "shell.execute_reply": "2021-08-09T06:15:09.739151Z"
    },
    "papermill": {
     "duration": 0.653708,
     "end_time": "2021-08-09T06:15:09.739862",
     "exception": false,
     "start_time": "2021-08-09T06:15:09.086154",
     "status": "completed"
    },
    "tags": []
   },
   "outputs": [
    {
     "data": {
      "image/png": "[encoded data removed]",
      "text/plain": [
       "<Figure size 1080x216 with 2 Axes>"
      ]
     },
     "metadata": {
      "image/png": {
       "height": 201,
       "width": 953
      }
     },
     "output_type": "display_data"
    }
   ],
   "source": [
    "fig, ax1 = plt.subplots(1, 1, sharex=False, sharey=False, figsize=(15,3))\n",
    "sns.heatmap(stat_df_wb.T, cbar=True, linewidths=1, cmap='RdBu_r', linecolor='dimgrey', ax=ax1, center=0,\n",
    "           annot=annot_df_wb.T, fmt='', annot_kws={'fontweight':'black', 'fontsize':'large'},\n",
    "           cbar_kws={'label':'T-statistic'}, yticklabels=['SC','FC'])\n",
    "colorbar = ax1.collections[0].colorbar\n",
    "colorbar.ax.yaxis.set_label_position('left')\n",
    "plt.xticks(rotation=0)\n",
    "plt.yticks(rotation=0)\n",
    "plt.title(\"Pairwise Differences in Timescale Within vs. Between Communities\", y=1.05)\n",
    "plt.xlabel('Resolution')\n",
    "plt.tight_layout()"
   ]
  }
 ],
 "metadata": {
  "kernelspec": {
   "display_name": "Python (timescale)",
   "language": "python",
   "name": "myenv"
  },
  "language_info": {
   "codemirror_mode": {
    "name": "ipython",
    "version": 3
   },
   "file_extension": ".py",
   "mimetype": "text/x-python",
   "name": "python",
   "nbconvert_exporter": "python",
   "pygments_lexer": "ipython3",
   "version": "3.8.10"
  },
  "papermill": {
   "default_parameters": {},
   "duration": 5.378296,
   "end_time": "2021-08-09T06:15:10.265717",
   "environment_variables": {},
   "exception": null,
   "input_path": "/home/despo/dlurie/Projects/timescale_hierarchy/code/notebooks/stats/affinity_preference/TEMPLATE-Viz_FDR_Community_Connectivity_Preference.ipynb",
   "output_path": "/home/despo/dlurie/Projects/timescale_hierarchy/results/stats/connectivity_preference/NKI-1400_HY_CompCorGSR_Yeh-HCP842_BNA_CX_VizCommConnPref.ipynb",
   "parameters": {
    "dwi_data_label": "Yeh-HCP842",
    "fmri_data_label": "NKI-1400_HY_CompCorGSR",
    "results_dir": "/home/despo/dlurie/Projects/timescale_hierarchy/results",
    "roi_subset": "CX"
   },
   "start_time": "2021-08-09T06:15:04.887421",
   "version": "2.3.3"
  }
 },
 "nbformat": 4,
 "nbformat_minor": 5
}