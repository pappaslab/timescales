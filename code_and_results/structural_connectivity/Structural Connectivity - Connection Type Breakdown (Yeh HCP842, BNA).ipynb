{
 "cells": [
  {
   "cell_type": "markdown",
   "id": "a2567e8e-f0af-475e-b29e-b6cacf6b7075",
   "metadata": {},
   "source": [
    "# Structural Connectivity - Connection Type Breakdown (Yeh HCP842, BNA)"
   ]
  },
  {
   "cell_type": "code",
   "execution_count": 1,
   "id": "245731a9-c432-4f96-b35c-02a0aa39e7da",
   "metadata": {},
   "outputs": [
    {
     "name": "stderr",
     "output_type": "stream",
     "text": [
      "/home/despoB/dlurie/anaconda3/envs/timescale/lib/python3.8/site-packages/nilearn/datasets/__init__.py:86: FutureWarning: Fetchers from the nilearn.datasets module will be updated in version 0.9 to return python strings instead of bytes and Pandas dataframes instead of Numpy arrays.\n",
      "  warn(\"Fetchers from the nilearn.datasets module will be \"\n"
     ]
    }
   ],
   "source": [
    "import bct as bct\n",
    "import pandas as pd\n",
    "import numpy as np\n",
    "from scipy import stats\n",
    "import seaborn as sns\n",
    "import matplotlib.pyplot as plt\n",
    "from nilearn import plotting, regions, image"
   ]
  },
  {
   "cell_type": "markdown",
   "id": "0f71b69d-c1d8-4093-8591-abd64d62bcc9",
   "metadata": {},
   "source": [
    "Set up notebook options and plotting functions."
   ]
  },
  {
   "cell_type": "code",
   "execution_count": 2,
   "id": "7e602951-578a-4fff-8c17-1c80e8259f21",
   "metadata": {},
   "outputs": [],
   "source": [
    "%matplotlib inline\n",
    "%config InlineBackend.figure_format = 'retina'"
   ]
  },
  {
   "cell_type": "code",
   "execution_count": 3,
   "id": "69f3824b-32bd-4cbd-a51a-e1e7c65c472f",
   "metadata": {},
   "outputs": [],
   "source": [
    "sns.set_context('notebook')"
   ]
  },
  {
   "cell_type": "code",
   "execution_count": 4,
   "id": "40ea3a39-f59a-4910-bcce-d050f7cf75a6",
   "metadata": {},
   "outputs": [],
   "source": [
    "np.set_printoptions(suppress=True)"
   ]
  },
  {
   "cell_type": "code",
   "execution_count": 1,
   "id": "10b13413-ed91-4c1d-9a51-7002b535e0ab",
   "metadata": {
    "papermill": {
     "duration": 0.060235,
     "end_time": "2021-08-06T06:19:25.337323",
     "exception": false,
     "start_time": "2021-08-06T06:19:25.277088",
     "status": "completed"
    },
    "tags": [
     "injected-parameters"
    ]
   },
   "outputs": [],
   "source": [
    "# Parameters\n",
    "fmri_data_label = \"HCP_Shine1_Session1_CleanGSR\"\n",
    "dwi_data_label = \"Yeh-HCP842\"\n",
    "results_dir = \"/home/despo/dlurie/Projects/timescale_hierarchy/results\"\n",
    "resource_dir = \"/home/despoB/dlurie/Projects/timescale_hierarchy/data/resources\""
   ]
  },
  {
   "cell_type": "code",
   "execution_count": 10,
   "id": "5f3e228a-9e73-4527-8048-2d25ff353ea5",
   "metadata": {
    "papermill": {
     "duration": 0.11649,
     "end_time": "2021-08-06T06:19:26.227296",
     "exception": false,
     "start_time": "2021-08-06T06:19:26.110806",
     "status": "completed"
    },
    "tags": []
   },
   "outputs": [],
   "source": [
    "# Load population atlas SC matrix.\n",
    "sc_mat = np.genfromtxt(f'{results_dir}/structural_connectivity/{dwi_data_label}_BNA_log_count_mat.csv', delimiter=',')"
   ]
  },
  {
   "cell_type": "markdown",
   "id": "687a0d9f-2ba7-48a4-9d5f-878931693321",
   "metadata": {},
   "source": [
    "### Total edges"
   ]
  },
  {
   "cell_type": "code",
   "execution_count": 49,
   "id": "11fed87e-3f27-4199-9765-9cd176305fc3",
   "metadata": {},
   "outputs": [
    {
     "data": {
      "text/plain": [
       "2540.0"
      ]
     },
     "execution_count": 49,
     "metadata": {},
     "output_type": "execute_result"
    }
   ],
   "source": [
    "np.sum(sc_mat > 0) / 2"
   ]
  },
  {
   "cell_type": "markdown",
   "id": "27cda4e2-d61f-4caa-a684-0d1eb1707a42",
   "metadata": {},
   "source": [
    "### Cortico-cortico"
   ]
  },
  {
   "cell_type": "code",
   "execution_count": 47,
   "id": "070cce18-75ba-4146-9bad-965ee23b563f",
   "metadata": {},
   "outputs": [],
   "source": [
    "sc_cc = sc_mat[:210, :210].copy()"
   ]
  },
  {
   "cell_type": "code",
   "execution_count": 50,
   "id": "bf258e23-5fd7-428b-9d74-557fccd5b836",
   "metadata": {},
   "outputs": [
    {
     "data": {
      "text/plain": [
       "1740.0"
      ]
     },
     "execution_count": 50,
     "metadata": {},
     "output_type": "execute_result"
    }
   ],
   "source": [
    "np.sum(sc_cc > 0) / 2"
   ]
  },
  {
   "cell_type": "markdown",
   "id": "6b786bed-2887-4579-be9a-50dc348606ec",
   "metadata": {},
   "source": [
    "### Cortico-subcortical"
   ]
  },
  {
   "cell_type": "code",
   "execution_count": 51,
   "id": "6060cc86-b02b-45f4-95d0-ea1c9d9bfbc6",
   "metadata": {},
   "outputs": [],
   "source": [
    "sc_csc = sc_mat[:210, 210:].copy()"
   ]
  },
  {
   "cell_type": "code",
   "execution_count": 52,
   "id": "08b9607e-af97-4e6a-9181-9285d403da53",
   "metadata": {},
   "outputs": [
    {
     "data": {
      "text/plain": [
       "760"
      ]
     },
     "execution_count": 52,
     "metadata": {},
     "output_type": "execute_result"
    }
   ],
   "source": [
    "np.sum(sc_csc > 0)"
   ]
  },
  {
   "cell_type": "markdown",
   "id": "ff2be3d0-cb71-4f40-9b8a-65acfa76105c",
   "metadata": {},
   "source": [
    "### LH intrahemispheric"
   ]
  },
  {
   "cell_type": "code",
   "execution_count": 53,
   "id": "71c07cf3-93d1-4a51-a4f7-1d296eeb5a1d",
   "metadata": {},
   "outputs": [],
   "source": [
    "sc_lhih = sc_mat[::2, ::2].copy()"
   ]
  },
  {
   "cell_type": "code",
   "execution_count": 55,
   "id": "3d647252-0cf6-46fb-bd7a-e7c1b39f089d",
   "metadata": {},
   "outputs": [
    {
     "data": {
      "text/plain": [
       "741.0"
      ]
     },
     "execution_count": 55,
     "metadata": {},
     "output_type": "execute_result"
    }
   ],
   "source": [
    "np.sum(sc_lhih > 0) / 2"
   ]
  },
  {
   "cell_type": "markdown",
   "id": "8a25dcd9-b99a-46ff-a0a6-c8d12891f8c5",
   "metadata": {},
   "source": [
    "### RH intrahemispheric"
   ]
  },
  {
   "cell_type": "code",
   "execution_count": 56,
   "id": "db970914-4aa9-472c-a13a-1a84b0844bf2",
   "metadata": {},
   "outputs": [],
   "source": [
    "sc_rhih = sc_mat[1::2, 1::2].copy()"
   ]
  },
  {
   "cell_type": "code",
   "execution_count": 57,
   "id": "92d8890d-ad98-4538-a3c7-3ad078862dea",
   "metadata": {},
   "outputs": [
    {
     "data": {
      "text/plain": [
       "628.0"
      ]
     },
     "execution_count": 57,
     "metadata": {},
     "output_type": "execute_result"
    }
   ],
   "source": [
    "np.sum(sc_rhih > 0) / 2"
   ]
  },
  {
   "cell_type": "markdown",
   "id": "68131bec-64b8-46ee-bbd5-e54278716e54",
   "metadata": {},
   "source": [
    "### Interhemispheric"
   ]
  },
  {
   "cell_type": "code",
   "execution_count": 58,
   "id": "67d74384-6aa5-4ef9-9f0f-02262060e303",
   "metadata": {},
   "outputs": [],
   "source": [
    "sc_bh = sc_mat[::2, 1::2].copy()"
   ]
  },
  {
   "cell_type": "code",
   "execution_count": 61,
   "id": "902a789e-93e9-433c-b360-fd99760313b0",
   "metadata": {},
   "outputs": [
    {
     "data": {
      "text/plain": [
       "1171"
      ]
     },
     "execution_count": 61,
     "metadata": {},
     "output_type": "execute_result"
    }
   ],
   "source": [
    "np.sum(sc_bh > 0)"
   ]
  }
 ],
 "metadata": {
  "kernelspec": {
   "display_name": "Python (timescale)",
   "language": "python",
   "name": "myenv"
  },
  "language_info": {
   "codemirror_mode": {
    "name": "ipython",
    "version": 3
   },
   "file_extension": ".py",
   "mimetype": "text/x-python",
   "name": "python",
   "nbconvert_exporter": "python",
   "pygments_lexer": "ipython3",
   "version": "3.8.10"
  }
 },
 "nbformat": 4,
 "nbformat_minor": 5
}
